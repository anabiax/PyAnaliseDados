{
  "nbformat": 4,
  "nbformat_minor": 0,
  "metadata": {
    "colab": {
      "provenance": [],
      "authorship_tag": "ABX9TyOOgmTOHmCGifMzN3O8oVGC"
    },
    "kernelspec": {
      "name": "python3",
      "display_name": "Python 3"
    },
    "language_info": {
      "name": "python"
    }
  },
  "cells": [
    {
      "cell_type": "markdown",
      "source": [
        "**ANÁLISE DE MICRODADOS DO ENEM**"
      ],
      "metadata": {
        "id": "f-I1P7DUnI8u"
      }
    },
    {
      "cell_type": "code",
      "execution_count": null,
      "metadata": {
        "id": "Pj12Ba-3liHY"
      },
      "outputs": [],
      "source": [
        "!pip install pandas matplotlib numpy scipy"
      ]
    },
    {
      "cell_type": "code",
      "source": [
        "import pandas as pd   # leitura e manipulacao de dados\n",
        "import matplotlib.pyplot as plt   # cricao de graficos"
      ],
      "metadata": {
        "id": "ED4Zb7GsmCkt"
      },
      "execution_count": 3,
      "outputs": []
    },
    {
      "cell_type": "code",
      "source": [
        "from google.colab import drive\n",
        "drive.mount('/content/drive')"
      ],
      "metadata": {
        "colab": {
          "base_uri": "https://localhost:8080/"
        },
        "id": "npYHsNjWpTzT",
        "outputId": "dff9611e-6001-4df5-9272-f3d350df0981"
      },
      "execution_count": 4,
      "outputs": [
        {
          "output_type": "stream",
          "name": "stdout",
          "text": [
            "Drive already mounted at /content/drive; to attempt to forcibly remount, call drive.mount(\"/content/drive\", force_remount=True).\n"
          ]
        }
      ]
    },
    {
      "cell_type": "code",
      "source": [
        "!head /content/drive/MyDrive/MICRODADOS_ENEM_2022.csv"
      ],
      "metadata": {
        "id": "ueW4-8vMo49I"
      },
      "execution_count": null,
      "outputs": []
    },
    {
      "cell_type": "code",
      "source": [
        "microDadosENEM = pd.read_csv(\"/content/drive/MyDrive/MICRODADOS_ENEM_2022.csv\",\n",
        "                              sep=';', encoding = \"ISO-8859-1\")\n",
        "microDadosENEM.head()"
      ],
      "metadata": {
        "id": "ZKjSiCo6oFka"
      },
      "execution_count": null,
      "outputs": []
    },
    {
      "cell_type": "code",
      "source": [
        "microDadosENEM  # essa forma mostra todas as linhas no total"
      ],
      "metadata": {
        "id": "7kwjOLjI0R85"
      },
      "execution_count": null,
      "outputs": []
    },
    {
      "cell_type": "code",
      "source": [
        "# identificando os nomes das colunas:\n",
        "microDadosENEM.columns"
      ],
      "metadata": {
        "id": "ryzG8Pa918Qz"
      },
      "execution_count": null,
      "outputs": []
    },
    {
      "cell_type": "code",
      "source": [
        "microDadosENEM.columns.values"
      ],
      "metadata": {
        "id": "rkjTWvpu6qxF"
      },
      "execution_count": null,
      "outputs": []
    },
    {
      "cell_type": "code",
      "source": [
        "#Verificando os tipos de dados de cada coluna\n",
        "microDadosENEM.info()"
      ],
      "metadata": {
        "id": "sYdHYiNm2MJn"
      },
      "execution_count": null,
      "outputs": []
    },
    {
      "cell_type": "markdown",
      "source": [
        "**ANÁLISE EXPLORATÓRIA DE DADOS**\n",
        "\n",
        "**Dado** - trata-se do registro de um fato/evento isolado ocorrido. <br>\n",
        "**Informação** - é a camada de sentido atribuída a um dado."
      ],
      "metadata": {
        "id": "KLkd94V152Cg"
      }
    },
    {
      "cell_type": "code",
      "source": [
        "colunasSelecionadasENEM = ['TP_FAIXA_ETARIA', 'TP_SEXO', 'TP_ESTADO_CIVIL',\n",
        "       'TP_COR_RACA', 'TP_NACIONALIDADE', 'TP_ANO_CONCLUIU', 'TP_ESCOLA',\n",
        "       'IN_TREINEIRO', 'CO_MUNICIPIO_ESC', 'NO_MUNICIPIO_ESC', 'CO_UF_ESC',\n",
        "       'SG_UF_ESC', 'TP_DEPENDENCIA_ADM_ESC','TP_LOCALIZACAO_ESC',\n",
        "       'TP_SIT_FUNC_ESC', 'CO_MUNICIPIO_PROVA', 'NO_MUNICIPIO_PROVA',\n",
        "       'CO_UF_PROVA', 'SG_UF_PROVA', 'TP_PRESENCA_CN', 'TP_PRESENCA_CH',\n",
        "       'TP_PRESENCA_LC', 'TP_PRESENCA_MT', 'CO_PROVA_CN', 'CO_PROVA_CH',\n",
        "       'CO_PROVA_LC', 'CO_PROVA_MT', 'NU_NOTA_CN', 'NU_NOTA_CH', 'NU_NOTA_LC',\n",
        "       'NU_NOTA_MT', 'TX_RESPOSTAS_CN', 'TX_RESPOSTAS_CH', 'TX_RESPOSTAS_LC',\n",
        "       'TX_RESPOSTAS_MT', 'TP_LINGUA', 'TP_STATUS_REDACAO', 'NU_NOTA_COMP1',\n",
        "       'NU_NOTA_COMP2', 'NU_NOTA_COMP3', 'NU_NOTA_COMP4', 'NU_NOTA_COMP5',\n",
        "       'NU_NOTA_REDACAO']"
      ],
      "metadata": {
        "id": "fmaVgmii569t"
      },
      "execution_count": 7,
      "outputs": []
    },
    {
      "cell_type": "code",
      "source": [
        "microDadosENEMSelecionado = microDadosENEM.filter(items=colunasSelecionadasENEM)\n",
        "                                             # nome do parâmetro é sempre items\n",
        "\n",
        "# trabalhar com um df significa que o processamento a partir de então será + rápido"
      ],
      "metadata": {
        "id": "YSkycE7x_aNW"
      },
      "execution_count": 8,
      "outputs": []
    },
    {
      "cell_type": "code",
      "source": [
        "microDadosENEMSelecionado.head()"
      ],
      "metadata": {
        "id": "ck4dgcwM_vMX"
      },
      "execution_count": null,
      "outputs": []
    },
    {
      "cell_type": "code",
      "source": [
        "microDados100 = microDadosENEMSelecionado[0:100]  # limita a quantidade de linhas"
      ],
      "metadata": {
        "id": "YFbUjpyeBblb"
      },
      "execution_count": 10,
      "outputs": []
    },
    {
      "cell_type": "code",
      "source": [
        "colunaNomeMunicipioProva = microDadosENEMSelecionado['NO_MUNICIPIO_PROVA']\n",
        "colunaNomeMunicipioProva\n",
        "\n",
        "# um novo objeto é atribuído a este resultado qnd extraio uma coluna - faz parte do processamento do pd\n",
        "# SÉRIE é o nome disso - é como se fosse uma lista com índices no pd"
      ],
      "metadata": {
        "id": "hsQ6tA-DBtY3"
      },
      "execution_count": null,
      "outputs": []
    },
    {
      "cell_type": "code",
      "source": [
        "# saber a distribuicao de alunos por município - retorna uma série contendo as qtd de valores únicos (qts linhas tem em cada)\n",
        "\n",
        "colunaNomeMunicipioProva.value_counts() # ordena por quantidade\n",
        "colunaNomeMunicipioProva.value_counts().sort_index() # ordem alfabética"
      ],
      "metadata": {
        "id": "abOE2ADHDqDQ"
      },
      "execution_count": null,
      "outputs": []
    },
    {
      "cell_type": "code",
      "source": [
        "colunaFaixaEtaria = microDadosENEMSelecionado['TP_FAIXA_ETARIA']\n",
        "#colunaFaixaEtaria\n",
        "colunaFaixaEtaria.value_counts().sort_index()"
      ],
      "metadata": {
        "id": "11tIfOGOEqaO"
      },
      "execution_count": null,
      "outputs": []
    },
    {
      "cell_type": "code",
      "source": [
        "colunaFaixaEtaria.hist(bins=30) # histograma"
      ],
      "metadata": {
        "id": "aCtUf29oGf0N"
      },
      "execution_count": null,
      "outputs": []
    },
    {
      "cell_type": "code",
      "source": [
        "colunaNomeMunicipioEscola = microDados100['NO_MUNICIPIO_ESC']\n",
        "colunaNomeMunicipioEscola.value_counts()"
      ],
      "metadata": {
        "id": "qbaOg4csHJNd"
      },
      "execution_count": null,
      "outputs": []
    },
    {
      "cell_type": "code",
      "source": [
        "colunaRaca = microDadosENEMSelecionado['TP_COR_RACA']\n",
        "colunaRaca.value_counts()"
      ],
      "metadata": {
        "id": "16NzpWkLG13X"
      },
      "execution_count": null,
      "outputs": []
    },
    {
      "cell_type": "code",
      "source": [
        "distribuicaoRaca = colunaRaca.value_counts()\n",
        "percentualPessoasPretas = [100 * numeroResultante / distribuicaoRaca.sum() for numeroResultante in distribuicaoRaca] # pego o resultado, divido pelo total (soma dos 5) e multiplica por 100 p/ obter a porcentagem\n",
        "percentualPessoasPretas\n",
        "\n",
        "# Leitura: 42,83% das pessoas que fizeram ENEM são pardas\n",
        "#          41,08% são brancas\n",
        "#          11,74% são pretas\n",
        "#          1,90% são amarelas\n",
        "#          1,86% não declarado\n",
        "#          0,57 - são indígenas"
      ],
      "metadata": {
        "id": "4kgfbfjKHJS1"
      },
      "execution_count": null,
      "outputs": []
    },
    {
      "cell_type": "code",
      "source": [
        "colunaSexo = microDadosENEMSelecionado['TP_SEXO']\n",
        "\n",
        "distruibuicaoSexo = colunaSexo.value_counts()\n",
        "distruibuicaoSexo\n",
        "\n",
        "#percentualSexo = [100 * resultado / distruibuicaoSexo.sum() for resultado in distruibuicaoSexo]\n",
        "#percentualSexo\n",
        "\n",
        "# Leitura: 61,00% são mulheres\n",
        "#          38% são homens"
      ],
      "metadata": {
        "id": "zdCb49q7OPS9"
      },
      "execution_count": null,
      "outputs": []
    },
    {
      "cell_type": "code",
      "source": [
        "# extrair a info de quantas mulheres negras fizeram o vestiba\n",
        "\n",
        "sexoFeminino = distruibuicaoSexo[0]\n",
        "pessoasNegras = distribuicaoRaca[2]"
      ],
      "metadata": {
        "id": "vX7ElXyGQC52"
      },
      "execution_count": 37,
      "outputs": []
    },
    {
      "cell_type": "code",
      "source": [
        "sexoFeminino"
      ],
      "metadata": {
        "colab": {
          "base_uri": "https://localhost:8080/"
        },
        "id": "n5FlO1KhQf_4",
        "outputId": "e1e1e874-eac6-42ab-ba74-f539974bf66f"
      },
      "execution_count": 38,
      "outputs": [
        {
          "output_type": "execute_result",
          "data": {
            "text/plain": [
              "2120519"
            ]
          },
          "metadata": {},
          "execution_count": 38
        }
      ]
    },
    {
      "cell_type": "code",
      "source": [
        "pessoasNegras"
      ],
      "metadata": {
        "colab": {
          "base_uri": "https://localhost:8080/"
        },
        "id": "KiTz8BnOQiTE",
        "outputId": "c4a33a9c-4e76-48e9-c0df-e496ed5c5fc3"
      },
      "execution_count": 39,
      "outputs": [
        {
          "output_type": "execute_result",
          "data": {
            "text/plain": [
              "408422"
            ]
          },
          "metadata": {},
          "execution_count": 39
        }
      ]
    },
    {
      "cell_type": "code",
      "source": [
        "# dentro do universo que declararam ser mulheres negras, qual é a porcentagem desta categoria?\n",
        "\n",
        "percentualMulheresNegras = 100 * pessoasNegras / sexoFeminino\n",
        "percentualMulheresNegras"
      ],
      "metadata": {
        "colab": {
          "base_uri": "https://localhost:8080/"
        },
        "id": "b2xzTUkLQkrP",
        "outputId": "21cd052f-2283-4b62-b900-113ddfdd7060"
      },
      "execution_count": 41,
      "outputs": [
        {
          "output_type": "execute_result",
          "data": {
            "text/plain": [
              "19.26047349729005"
            ]
          },
          "metadata": {},
          "execution_count": 41
        }
      ]
    }
  ]
}