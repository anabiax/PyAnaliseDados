{
  "nbformat": 4,
  "nbformat_minor": 0,
  "metadata": {
    "colab": {
      "provenance": [],
      "authorship_tag": "ABX9TyP1/PeImwaxJ5kJdbs0EBj6"
    },
    "kernelspec": {
      "name": "python3",
      "display_name": "Python 3"
    },
    "language_info": {
      "name": "python"
    }
  },
  "cells": [
    {
      "cell_type": "markdown",
      "source": [
        "**ANÁLISE DE MICRODADOS DO ENEM**"
      ],
      "metadata": {
        "id": "f-I1P7DUnI8u"
      }
    },
    {
      "cell_type": "code",
      "execution_count": null,
      "metadata": {
        "id": "Pj12Ba-3liHY"
      },
      "outputs": [],
      "source": [
        "!pip install pandas matplotlib numpy scipy"
      ]
    },
    {
      "cell_type": "code",
      "source": [
        "import pandas as pd   # leitura e manipulacao de dados\n",
        "import matplotlib.pyplot as plt   # cricao de graficos"
      ],
      "metadata": {
        "id": "ED4Zb7GsmCkt"
      },
      "execution_count": null,
      "outputs": []
    },
    {
      "cell_type": "code",
      "source": [
        "from google.colab import drive\n",
        "drive.mount('/content/drive')"
      ],
      "metadata": {
        "id": "npYHsNjWpTzT"
      },
      "execution_count": null,
      "outputs": []
    },
    {
      "cell_type": "code",
      "source": [
        "!head /content/drive/MyDrive/MICRODADOS_ENEM_2022.csv"
      ],
      "metadata": {
        "id": "ueW4-8vMo49I"
      },
      "execution_count": null,
      "outputs": []
    },
    {
      "cell_type": "code",
      "source": [
        "microDadosENEM = pd.read_csv(\"/content/drive/MyDrive/MICRODADOS_ENEM_2022.csv\", sep=';', encoding = \"ISO-8859-1\")\n",
        "microDadosENEM.head()"
      ],
      "metadata": {
        "id": "ZKjSiCo6oFka"
      },
      "execution_count": null,
      "outputs": []
    },
    {
      "cell_type": "code",
      "source": [
        "microDadosENEM  # essa forma mostra todas as linhas no total"
      ],
      "metadata": {
        "id": "7kwjOLjI0R85"
      },
      "execution_count": null,
      "outputs": []
    },
    {
      "cell_type": "code",
      "source": [
        "# identificando os nomes das colunas:\n",
        "microDadosENEM.columns"
      ],
      "metadata": {
        "id": "ryzG8Pa918Qz"
      },
      "execution_count": null,
      "outputs": []
    },
    {
      "cell_type": "code",
      "source": [
        "#Verificando os tipos de dados de cada coluna\n",
        "microDadosENEM.info()"
      ],
      "metadata": {
        "id": "sYdHYiNm2MJn"
      },
      "execution_count": null,
      "outputs": []
    },
    {
      "cell_type": "code",
      "source": [],
      "metadata": {
        "id": "l-urBBhw5KKo"
      },
      "execution_count": null,
      "outputs": []
    }
  ]
}